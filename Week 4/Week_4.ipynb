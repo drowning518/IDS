{
  "nbformat": 4,
  "nbformat_minor": 0,
  "metadata": {
    "colab": {
      "name": "Week 4",
      "provenance": []
    },
    "kernelspec": {
      "name": "python3",
      "display_name": "Python 3"
    }
  },
  "cells": [
    {
      "cell_type": "code",
      "metadata": {
        "id": "tet4uCDflYBy",
        "colab_type": "code",
        "outputId": "e9647a75-70b4-4174-d220-70e9a7321cc4",
        "colab": {
          "base_uri": "https://localhost:8080/",
          "height": 51
        }
      },
      "source": [
        "#溫度轉換(攝氏轉華氏)\n",
        "current_tempc=int(input(\"Please enter the current tempc:\"))\n",
        "current_tempf=current_tempc*9/5+32\n",
        "print(current_tempf)"
      ],
      "execution_count": 0,
      "outputs": [
        {
          "output_type": "stream",
          "text": [
            "Please enter the current tempc:25\n",
            "77.0\n"
          ],
          "name": "stdout"
        }
      ]
    },
    {
      "cell_type": "code",
      "metadata": {
        "id": "_yINgK9MnuTT",
        "colab_type": "code",
        "outputId": "a7ae0ce0-0f26-4bef-8fac-e1bbb58b5b7f",
        "colab": {
          "base_uri": "https://localhost:8080/",
          "height": 51
        }
      },
      "source": [
        "#溫度轉換(華氏轉攝氏)\n",
        "current_tempf=int(input(\"Please enter the current tempf:\"))\n",
        "current_tempc=(current_tempf-32)*5/9\n",
        "print(current_tempc)"
      ],
      "execution_count": 0,
      "outputs": [
        {
          "output_type": "stream",
          "text": [
            "Please enter the current tempf:77\n",
            "25.0\n"
          ],
          "name": "stdout"
        }
      ]
    },
    {
      "cell_type": "code",
      "metadata": {
        "id": "X4KftgJNo-UM",
        "colab_type": "code",
        "outputId": "faeab10b-aa08-4f1c-c8b2-923b802bfc75",
        "colab": {
          "base_uri": "https://localhost:8080/",
          "height": 34
        }
      },
      "source": [
        "#計算俠客歐尼爾巔峰時期的BMI身體質量指數\n",
        "shaq_height = 216\n",
        "shaq_weight = 147\n",
        "BMI=shaq_weight/(shaq_height/100)**2\n",
        "print(BMI)"
      ],
      "execution_count": 0,
      "outputs": [
        {
          "output_type": "stream",
          "text": [
            "31.507201646090532\n"
          ],
          "name": "stdout"
        }
      ]
    },
    {
      "cell_type": "code",
      "metadata": {
        "id": "usKmhSXws7Cy",
        "colab_type": "code",
        "outputId": "c45e42c4-538a-481c-8e3c-75e27af84ca1",
        "colab": {
          "base_uri": "https://localhost:8080/",
          "height": 34
        }
      },
      "source": [
        "#What did Ross say?\n",
        "ross_said=(\"\"\"Let's put aside the fact that you \"accidentally\" pick up my grandmother's ring.\"\"\")\n",
        "print(ross_said)"
      ],
      "execution_count": 0,
      "outputs": [
        {
          "output_type": "stream",
          "text": [
            "Let's put aside the fact that you \"accidentally\" pick up my grandmother's ring.\n"
          ],
          "name": "stdout"
        }
      ]
    },
    {
      "cell_type": "code",
      "metadata": {
        "id": "ygGMA-1Uv6YB",
        "colab_type": "code",
        "outputId": "10cefa6e-c63a-4c92-e1e9-b345e20aeff2",
        "colab": {
          "base_uri": "https://localhost:8080/",
          "height": 68
        }
      },
      "source": [
        "#讓使用者輸入城市名稱與天氣\n",
        "city=input(\"請輸入城市:\")\n",
        "weather=input(\"請輸入天氣:\")\n",
        "print(\"我在{}，天氣{}\".format(city,weather))"
      ],
      "execution_count": 0,
      "outputs": [
        {
          "output_type": "stream",
          "text": [
            "請輸入城市:台北\n",
            "請輸入天氣:晴\n",
            "我在台北，天氣晴\n"
          ],
          "name": "stdout"
        }
      ]
    },
    {
      "cell_type": "code",
      "metadata": {
        "id": "5J-V2BPczkXX",
        "colab_type": "code",
        "outputId": "cdda5655-ac5f-4dc5-b84d-e9ff4c2d119f",
        "colab": {
          "base_uri": "https://localhost:8080/",
          "height": 102
        }
      },
      "source": [
        "#球員 BMI 與過重判斷\n",
        "name=input(\"請輸入球員姓名?\")\n",
        "height=int(input(\"請輸入球員身高（cm）?\"))\n",
        "weight=int(input(\"請輸入球員體重（kg）?\"))\n",
        "BMI=weight/(height/100)**2\n",
        "print(\"{}的BMI為:{:.2f}\".format(name,BMI))\n",
        "\n",
        "print(\"{}是否過重:{}\".format(name,BMI>30))"
      ],
      "execution_count": 0,
      "outputs": [
        {
          "output_type": "stream",
          "text": [
            "請輸入球員姓名?俠客歐尼爾\n",
            "請輸入球員身高（cm）?216\n",
            "請輸入球員體重（kg）?147\n",
            "俠客歐尼爾的BMI為:31.51\n",
            "俠客歐尼爾是否過重:True\n"
          ],
          "name": "stdout"
        }
      ]
    }
  ]
}