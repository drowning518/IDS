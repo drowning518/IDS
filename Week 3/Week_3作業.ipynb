{
  "nbformat": 4,
  "nbformat_minor": 0,
  "metadata": {
    "colab": {
      "name": "Week 3作業",
      "provenance": []
    },
    "kernelspec": {
      "name": "python3",
      "display_name": "Python 3"
    }
  },
  "cells": [
    {
      "cell_type": "code",
      "metadata": {
        "id": "G1iuPlqmcT0J",
        "colab_type": "code",
        "colab": {
          "base_uri": "https://localhost:8080/",
          "height": 119
        },
        "outputId": "7ef94761-2d71-41c2-e523-9b299ac39419"
      },
      "source": [
        "movie_title = \"Avengers: Endgame\"\n",
        "movie_length = 181\n",
        "movie_rating = 8.4\n",
        "\n",
        "print(movie_title)\n",
        "print(movie_length)\n",
        "print(movie_rating)\n",
        "\n",
        "print(type(movie_title))\n",
        "print(type(movie_length))\n",
        "print(type(movie_rating))"
      ],
      "execution_count": 1,
      "outputs": [
        {
          "output_type": "stream",
          "text": [
            "Avengers: Endgame\n",
            "181\n",
            "8.4\n",
            "<class 'str'>\n",
            "<class 'int'>\n",
            "<class 'float'>\n"
          ],
          "name": "stdout"
        }
      ]
    }
  ]
}