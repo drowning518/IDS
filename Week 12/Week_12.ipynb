{
  "nbformat": 4,
  "nbformat_minor": 0,
  "metadata": {
    "colab": {
      "name": "Week 12",
      "provenance": []
    },
    "kernelspec": {
      "name": "python3",
      "display_name": "Python 3"
    }
  },
  "cells": [
    {
      "cell_type": "code",
      "metadata": {
        "id": "GUv8iuU5-FMJ",
        "colab_type": "code",
        "colab": {}
      },
      "source": [
        "# iterables in python\n",
        "prime_list = [2, 3, 5, 7, 11]\n",
        "prime_tuple = (2, 3, 5, 7, 11)\n",
        "weekdays_dict = {\n",
        "    'Monday': 1,\n",
        "    'Tuesday': 2,\n",
        "    'Wednesday': 3,\n",
        "    'Thursday': 4,\n",
        "    'Friday': 5\n",
        "}\n",
        "prime_set = {2, 3, 5, 7, 11}"
      ],
      "execution_count": 0,
      "outputs": []
    },
    {
      "cell_type": "code",
      "metadata": {
        "id": "PgdNDCoRBW0z",
        "colab_type": "code",
        "colab": {
          "base_uri": "https://localhost:8080/",
          "height": 34
        },
        "outputId": "8158988c-2411-4583-e4c4-5fecf0d2ed24"
      },
      "source": [
        "may4th = \"Luke, use the Force!\"\n",
        "I = iter(may4th)\n",
        "next(I)"
      ],
      "execution_count": 3,
      "outputs": [
        {
          "output_type": "execute_result",
          "data": {
            "text/plain": [
              "'L'"
            ]
          },
          "metadata": {
            "tags": []
          },
          "execution_count": 3
        }
      ]
    },
    {
      "cell_type": "code",
      "metadata": {
        "id": "-Rbx_acVe8hp",
        "colab_type": "code",
        "colab": {
          "base_uri": "https://localhost:8080/",
          "height": 357
        },
        "outputId": "ca2b84a1-145a-4c29-cd32-57282303dd02"
      },
      "source": [
        "for i in may4th:\n",
        "    print(i)"
      ],
      "execution_count": 4,
      "outputs": [
        {
          "output_type": "stream",
          "text": [
            "L\n",
            "u\n",
            "k\n",
            "e\n",
            ",\n",
            " \n",
            "u\n",
            "s\n",
            "e\n",
            " \n",
            "t\n",
            "h\n",
            "e\n",
            " \n",
            "F\n",
            "o\n",
            "r\n",
            "c\n",
            "e\n",
            "!\n"
          ],
          "name": "stdout"
        }
      ]
    },
    {
      "cell_type": "code",
      "metadata": {
        "id": "1W7HSUuFe9GO",
        "colab_type": "code",
        "colab": {
          "base_uri": "https://localhost:8080/",
          "height": 34
        },
        "outputId": "4912c28a-eb76-4d3e-e96f-fcab38f0dfca"
      },
      "source": [
        "may4th[0]\n",
        "may4th[len(may4th)-1]"
      ],
      "execution_count": 5,
      "outputs": [
        {
          "output_type": "execute_result",
          "data": {
            "text/plain": [
              "'!'"
            ]
          },
          "metadata": {
            "tags": []
          },
          "execution_count": 5
        }
      ]
    },
    {
      "cell_type": "code",
      "metadata": {
        "id": "84sWZSvyfAW-",
        "colab_type": "code",
        "colab": {
          "base_uri": "https://localhost:8080/",
          "height": 357
        },
        "outputId": "0dd3be5d-5b03-4200-c11e-bb7437c85e1a"
      },
      "source": [
        "i = 0\n",
        "while i < len(may4th):\n",
        "    print(may4th[i])\n",
        "    i += 1"
      ],
      "execution_count": 6,
      "outputs": [
        {
          "output_type": "stream",
          "text": [
            "L\n",
            "u\n",
            "k\n",
            "e\n",
            ",\n",
            " \n",
            "u\n",
            "s\n",
            "e\n",
            " \n",
            "t\n",
            "h\n",
            "e\n",
            " \n",
            "F\n",
            "o\n",
            "r\n",
            "c\n",
            "e\n",
            "!\n"
          ],
          "name": "stdout"
        }
      ]
    },
    {
      "cell_type": "code",
      "metadata": {
        "id": "OZAdfByMfC4e",
        "colab_type": "code",
        "colab": {
          "base_uri": "https://localhost:8080/",
          "height": 54
        },
        "outputId": "13945d9d-5104-489e-ce7f-b274a8d7aacb"
      },
      "source": [
        "print(list(range(1, 101)))"
      ],
      "execution_count": 7,
      "outputs": [
        {
          "output_type": "stream",
          "text": [
            "[1, 2, 3, 4, 5, 6, 7, 8, 9, 10, 11, 12, 13, 14, 15, 16, 17, 18, 19, 20, 21, 22, 23, 24, 25, 26, 27, 28, 29, 30, 31, 32, 33, 34, 35, 36, 37, 38, 39, 40, 41, 42, 43, 44, 45, 46, 47, 48, 49, 50, 51, 52, 53, 54, 55, 56, 57, 58, 59, 60, 61, 62, 63, 64, 65, 66, 67, 68, 69, 70, 71, 72, 73, 74, 75, 76, 77, 78, 79, 80, 81, 82, 83, 84, 85, 86, 87, 88, 89, 90, 91, 92, 93, 94, 95, 96, 97, 98, 99, 100]\n"
          ],
          "name": "stdout"
        }
      ]
    },
    {
      "cell_type": "code",
      "metadata": {
        "id": "DA69D04XfGLe",
        "colab_type": "code",
        "colab": {
          "base_uri": "https://localhost:8080/",
          "height": 34
        },
        "outputId": "57c77479-ad78-4faf-b32f-c3f935345fa9"
      },
      "source": [
        "print(list(range(0, 100, 2)))"
      ],
      "execution_count": 8,
      "outputs": [
        {
          "output_type": "stream",
          "text": [
            "[0, 2, 4, 6, 8, 10, 12, 14, 16, 18, 20, 22, 24, 26, 28, 30, 32, 34, 36, 38, 40, 42, 44, 46, 48, 50, 52, 54, 56, 58, 60, 62, 64, 66, 68, 70, 72, 74, 76, 78, 80, 82, 84, 86, 88, 90, 92, 94, 96, 98]\n"
          ],
          "name": "stdout"
        }
      ]
    },
    {
      "cell_type": "code",
      "metadata": {
        "id": "pE8YJVtofIpe",
        "colab_type": "code",
        "colab": {
          "base_uri": "https://localhost:8080/",
          "height": 1000
        },
        "outputId": "bf93fc3e-f54a-45c9-a75d-c8c2e0296902"
      },
      "source": [
        "for i in range(1, 101):\n",
        "    print(i)"
      ],
      "execution_count": 9,
      "outputs": [
        {
          "output_type": "stream",
          "text": [
            "1\n",
            "2\n",
            "3\n",
            "4\n",
            "5\n",
            "6\n",
            "7\n",
            "8\n",
            "9\n",
            "10\n",
            "11\n",
            "12\n",
            "13\n",
            "14\n",
            "15\n",
            "16\n",
            "17\n",
            "18\n",
            "19\n",
            "20\n",
            "21\n",
            "22\n",
            "23\n",
            "24\n",
            "25\n",
            "26\n",
            "27\n",
            "28\n",
            "29\n",
            "30\n",
            "31\n",
            "32\n",
            "33\n",
            "34\n",
            "35\n",
            "36\n",
            "37\n",
            "38\n",
            "39\n",
            "40\n",
            "41\n",
            "42\n",
            "43\n",
            "44\n",
            "45\n",
            "46\n",
            "47\n",
            "48\n",
            "49\n",
            "50\n",
            "51\n",
            "52\n",
            "53\n",
            "54\n",
            "55\n",
            "56\n",
            "57\n",
            "58\n",
            "59\n",
            "60\n",
            "61\n",
            "62\n",
            "63\n",
            "64\n",
            "65\n",
            "66\n",
            "67\n",
            "68\n",
            "69\n",
            "70\n",
            "71\n",
            "72\n",
            "73\n",
            "74\n",
            "75\n",
            "76\n",
            "77\n",
            "78\n",
            "79\n",
            "80\n",
            "81\n",
            "82\n",
            "83\n",
            "84\n",
            "85\n",
            "86\n",
            "87\n",
            "88\n",
            "89\n",
            "90\n",
            "91\n",
            "92\n",
            "93\n",
            "94\n",
            "95\n",
            "96\n",
            "97\n",
            "98\n",
            "99\n",
            "100\n"
          ],
          "name": "stdout"
        }
      ]
    },
    {
      "cell_type": "code",
      "metadata": {
        "id": "AFwf5jUufKde",
        "colab_type": "code",
        "colab": {
          "base_uri": "https://localhost:8080/",
          "height": 68
        },
        "outputId": "e130b9bf-fd7f-4eb7-f659-182bb206555c"
      },
      "source": [
        "x = int(input(\"請輸入起始的正整數:\"))\n",
        "y = int(input(\"請輸入終止的正整數:\"))\n",
        "odds = []\n",
        "for i in range(x, y+1):\n",
        "    mod = i % 2\n",
        "    if mod == 1:\n",
        "        odds.append(i)\n",
        "print(odds)"
      ],
      "execution_count": 12,
      "outputs": [
        {
          "output_type": "stream",
          "text": [
            "請輸入起始的正整數:13\n",
            "請輸入終止的正整數:59\n",
            "[13, 15, 17, 19, 21, 23, 25, 27, 29, 31, 33, 35, 37, 39, 41, 43, 45, 47, 49, 51, 53, 55, 57, 59]\n"
          ],
          "name": "stdout"
        }
      ]
    },
    {
      "cell_type": "code",
      "metadata": {
        "id": "P6TlhPyRfNMm",
        "colab_type": "code",
        "colab": {
          "base_uri": "https://localhost:8080/",
          "height": 51
        },
        "outputId": "ab574cb7-0e4b-4553-bade-bf28f4e3c31b"
      },
      "source": [
        "print(len(odds)) # 記數\n",
        "print(sum(odds)) # 加總"
      ],
      "execution_count": 13,
      "outputs": [
        {
          "output_type": "stream",
          "text": [
            "24\n",
            "864\n"
          ],
          "name": "stdout"
        }
      ]
    },
    {
      "cell_type": "code",
      "metadata": {
        "id": "39ZFeA_3fVte",
        "colab_type": "code",
        "colab": {
          "base_uri": "https://localhost:8080/",
          "height": 68
        },
        "outputId": "b63f9f45-da9d-453a-f0de-3f822ce2c196"
      },
      "source": [
        "x = int(input(\"請輸入一個正整數:\"))\n",
        "divisors = []\n",
        "for i in range(1, x+1):\n",
        "    if x % i == 0:\n",
        "        divisors.append(i)\n",
        "print(divisors)\n",
        "n_divisors = len(divisors)\n",
        "if n_divisors == 2:\n",
        "    print(\"{}是質數\".format(x))\n",
        "else:\n",
        "    print(\"{}不是質數\".format(x))"
      ],
      "execution_count": 16,
      "outputs": [
        {
          "output_type": "stream",
          "text": [
            "請輸入一個正整數:1\n",
            "[1]\n",
            "1不是質數\n"
          ],
          "name": "stdout"
        }
      ]
    },
    {
      "cell_type": "code",
      "metadata": {
        "id": "nBsS8Zx3fZde",
        "colab_type": "code",
        "colab": {
          "base_uri": "https://localhost:8080/",
          "height": 51
        },
        "outputId": "b740574a-f47d-44bd-9c63-0f538cb30df5"
      },
      "source": [
        "x = int(input(\"請輸入一個正整數:\"))\n",
        "divisors = []\n",
        "for i in range(1, x+1):\n",
        "    if x % i == 0:\n",
        "        divisors.append(i)\n",
        "print(divisors)"
      ],
      "execution_count": 15,
      "outputs": [
        {
          "output_type": "stream",
          "text": [
            "請輸入一個正整數:59\n",
            "[1, 59]\n"
          ],
          "name": "stdout"
        }
      ]
    },
    {
      "cell_type": "code",
      "metadata": {
        "id": "9UePKuhgfdrm",
        "colab_type": "code",
        "colab": {
          "base_uri": "https://localhost:8080/",
          "height": 156
        },
        "outputId": "0723ba64-6f66-49fd-d972-f052a2ce7a1b"
      },
      "source": [
        "# random 產生 1 個隨機數\n",
        "import random\n",
        "\n",
        "random.randint(1, 1000)\n",
        "# random 產生 100 個隨機數\n",
        "random_integers = []\n",
        "for i in range(100):\n",
        "    rand_int = random.randint(1, 1000)\n",
        "    random_integers.append(rand_int)\n",
        "print(random_integers)\n",
        "print(len(random_integers))\n",
        "# 找出第一大與第一小的數字\n",
        "print(max(random_integers))\n",
        "print(min(random_integers))\n",
        "# 找出第二大與第二小的數字\n",
        "rand_int_unique = set(random_integers)\n",
        "rand_int_unique_list = list(rand_int_unique)\n",
        "print(rand_int_unique_list)\n",
        "rand_int_unique_list.sort()\n",
        "print(rand_int_unique_list[1])  # second min\n",
        "print(rand_int_unique_list[-2]) # secomd max"
      ],
      "execution_count": 17,
      "outputs": [
        {
          "output_type": "stream",
          "text": [
            "[258, 916, 570, 885, 16, 143, 245, 420, 733, 895, 186, 978, 709, 992, 903, 953, 223, 890, 376, 903, 79, 876, 113, 76, 901, 120, 16, 258, 347, 924, 121, 769, 767, 194, 240, 556, 155, 855, 702, 90, 455, 467, 263, 278, 712, 831, 634, 796, 445, 653, 662, 3, 892, 407, 187, 586, 90, 694, 375, 583, 951, 644, 31, 306, 151, 337, 923, 823, 361, 755, 279, 354, 94, 86, 159, 744, 472, 890, 93, 409, 798, 284, 398, 857, 46, 800, 967, 494, 105, 698, 304, 996, 614, 825, 460, 674, 249, 66, 706, 941]\n",
            "100\n",
            "996\n",
            "3\n",
            "[3, 16, 31, 556, 46, 570, 66, 583, 586, 76, 79, 86, 90, 93, 94, 614, 105, 113, 120, 121, 634, 644, 653, 143, 662, 151, 155, 159, 674, 694, 186, 187, 698, 702, 194, 706, 709, 712, 733, 223, 744, 240, 755, 245, 249, 767, 769, 258, 263, 278, 279, 796, 284, 798, 800, 304, 306, 823, 825, 831, 337, 855, 857, 347, 354, 361, 876, 885, 375, 376, 890, 892, 895, 901, 903, 398, 916, 407, 409, 923, 924, 420, 941, 951, 953, 445, 455, 967, 460, 978, 467, 472, 992, 996, 494]\n",
            "16\n",
            "992\n"
          ],
          "name": "stdout"
        }
      ]
    },
    {
      "cell_type": "code",
      "metadata": {
        "id": "gUH6o-4aflo1",
        "colab_type": "code",
        "colab": {
          "base_uri": "https://localhost:8080/",
          "height": 34
        },
        "outputId": "76c93da1-029b-471d-b69b-4df3a76ead5a"
      },
      "source": [
        "list(range(10))"
      ],
      "execution_count": 18,
      "outputs": [
        {
          "output_type": "execute_result",
          "data": {
            "text/plain": [
              "[0, 1, 2, 3, 4, 5, 6, 7, 8, 9]"
            ]
          },
          "metadata": {
            "tags": []
          },
          "execution_count": 18
        }
      ]
    },
    {
      "cell_type": "code",
      "metadata": {
        "id": "LV4nKSP5fowN",
        "colab_type": "code",
        "colab": {
          "base_uri": "https://localhost:8080/",
          "height": 34
        },
        "outputId": "0dd187fe-7e66-4eac-c801-c364f18c9d7f"
      },
      "source": [
        "squared = []\n",
        "for i in range(10):\n",
        "    squared.append(i**2)\n",
        "print(squared)"
      ],
      "execution_count": 19,
      "outputs": [
        {
          "output_type": "stream",
          "text": [
            "[0, 1, 4, 9, 16, 25, 36, 49, 64, 81]\n"
          ],
          "name": "stdout"
        }
      ]
    },
    {
      "cell_type": "code",
      "metadata": {
        "id": "xtT7EvB2fqzN",
        "colab_type": "code",
        "colab": {
          "base_uri": "https://localhost:8080/",
          "height": 34
        },
        "outputId": "d40e309e-82e5-49be-d488-4f567741c3cb"
      },
      "source": [
        "squared = [i**2 for i in range(10)]\n",
        "print(squared)"
      ],
      "execution_count": 20,
      "outputs": [
        {
          "output_type": "stream",
          "text": [
            "[0, 1, 4, 9, 16, 25, 36, 49, 64, 81]\n"
          ],
          "name": "stdout"
        }
      ]
    },
    {
      "cell_type": "code",
      "metadata": {
        "id": "rlqVlK4Qft-m",
        "colab_type": "code",
        "colab": {
          "base_uri": "https://localhost:8080/",
          "height": 34
        },
        "outputId": "1a893459-cf52-43e0-ebd7-d618e9901949"
      },
      "source": [
        "odds_squared = []\n",
        "for i in range(10):\n",
        "    if i % 2 == 1:\n",
        "        odds_squared.append(i**2)\n",
        "print(odds_squared)"
      ],
      "execution_count": 21,
      "outputs": [
        {
          "output_type": "stream",
          "text": [
            "[1, 9, 25, 49, 81]\n"
          ],
          "name": "stdout"
        }
      ]
    },
    {
      "cell_type": "code",
      "metadata": {
        "id": "aZsAaETOfxG9",
        "colab_type": "code",
        "colab": {
          "base_uri": "https://localhost:8080/",
          "height": 34
        },
        "outputId": "edfc346f-c0a1-4dca-a717-4354d6be33d5"
      },
      "source": [
        "odds_squared = [i**2 for i in range(10) if i % 2 == 1]\n",
        "print(odds_squared)"
      ],
      "execution_count": 22,
      "outputs": [
        {
          "output_type": "stream",
          "text": [
            "[1, 9, 25, 49, 81]\n"
          ],
          "name": "stdout"
        }
      ]
    },
    {
      "cell_type": "code",
      "metadata": {
        "id": "PzPD1YOEf0aG",
        "colab_type": "code",
        "colab": {
          "base_uri": "https://localhost:8080/",
          "height": 51
        },
        "outputId": "574cdc18-198e-4478-f57b-9e711eb790e9"
      },
      "source": [
        "random_integers = [random.randint(1, 100) for i in range(20)]\n",
        "is_odd_ints = []\n",
        "for i in random_integers:\n",
        "    if i % 2 == 1:\n",
        "        is_odd_ints.append(True)\n",
        "    else:\n",
        "        is_odd_ints.append(False)\n",
        "print(random_integers)\n",
        "print(is_odd_ints)"
      ],
      "execution_count": 23,
      "outputs": [
        {
          "output_type": "stream",
          "text": [
            "[32, 67, 69, 86, 93, 56, 54, 49, 76, 73, 78, 88, 52, 22, 95, 66, 11, 9, 26, 54]\n",
            "[False, True, True, False, True, False, False, True, False, True, False, False, False, False, True, False, True, True, False, False]\n"
          ],
          "name": "stdout"
        }
      ]
    },
    {
      "cell_type": "code",
      "metadata": {
        "id": "KXSPyU3Hf2t1",
        "colab_type": "code",
        "colab": {
          "base_uri": "https://localhost:8080/",
          "height": 51
        },
        "outputId": "de3d8c51-b42e-4cb4-93f9-0cd74e65d0eb"
      },
      "source": [
        "random_integers = [random.randint(1, 100) for i in range(20)]\n",
        "is_odd_ints = [True if i % 2 == 1 else False for i in random_integers]\n",
        "print(random_integers)\n",
        "print(is_odd_ints)"
      ],
      "execution_count": 24,
      "outputs": [
        {
          "output_type": "stream",
          "text": [
            "[70, 68, 60, 11, 83, 100, 65, 14, 60, 18, 75, 87, 65, 98, 44, 16, 17, 47, 70, 88]\n",
            "[False, False, False, True, True, False, True, False, False, False, True, True, True, False, False, False, True, True, False, False]\n"
          ],
          "name": "stdout"
        }
      ]
    },
    {
      "cell_type": "code",
      "metadata": {
        "id": "b00TY_PEf4hN",
        "colab_type": "code",
        "colab": {
          "base_uri": "https://localhost:8080/",
          "height": 102
        },
        "outputId": "0bd5d291-888a-473a-d10a-e6fa651b4ffc"
      },
      "source": [
        "weekdays = ['Monday', 'Tuesday', 'Wednesday', 'Thursday', 'Friday']\n",
        "for i, wd in enumerate(weekdays):\n",
        "    print(\"{}:星期{}\".format(wd, i+1))"
      ],
      "execution_count": 25,
      "outputs": [
        {
          "output_type": "stream",
          "text": [
            "Monday:星期1\n",
            "Tuesday:星期2\n",
            "Wednesday:星期3\n",
            "Thursday:星期4\n",
            "Friday:星期5\n"
          ],
          "name": "stdout"
        }
      ]
    },
    {
      "cell_type": "code",
      "metadata": {
        "id": "Qu4RXwFgjqys",
        "colab_type": "code",
        "colab": {}
      },
      "source": [
        ""
      ],
      "execution_count": 0,
      "outputs": []
    }
  ]
}