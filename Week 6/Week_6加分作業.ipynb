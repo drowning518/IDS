{
  "nbformat": 4,
  "nbformat_minor": 0,
  "metadata": {
    "colab": {
      "name": "Week 6加分作業",
      "provenance": []
    },
    "kernelspec": {
      "name": "python3",
      "display_name": "Python 3"
    }
  },
  "cells": [
    {
      "cell_type": "code",
      "metadata": {
        "id": "OpQLLJIG36Mz",
        "colab_type": "code",
        "colab": {
          "base_uri": "https://localhost:8080/",
          "height": 85
        },
        "outputId": "fd33192a-ff72-4f02-e2f6-296729f9d10a"
      },
      "source": [
        "#(1)若x = \"Python\", y = \"Python\"，則(x is y) 和 (x==y)的結果是True還是False?\n",
        "x =\"Python\"\n",
        "y =\"Python\"\n",
        "\n",
        "print(x is y)\n",
        "print(x == y)\n",
        "\n",
        "print(id(x))\n",
        "print(id(y))"
      ],
      "execution_count": 5,
      "outputs": [
        {
          "output_type": "stream",
          "text": [
            "True\n",
            "True\n",
            "140411147758704\n",
            "140411147758704\n"
          ],
          "name": "stdout"
        }
      ]
    },
    {
      "cell_type": "code",
      "metadata": {
        "id": "wcGDEOp83-9P",
        "colab_type": "code",
        "colab": {
          "base_uri": "https://localhost:8080/",
          "height": 85
        },
        "outputId": "28a679b7-3cb3-4e43-d9a6-b051e6422a97"
      },
      "source": [
        "#(2)若x = \"Python\", y = x，則(x is y) 和 (x==y)的結果是True還是False?\n",
        "x =\"Python\"\n",
        "y = x\n",
        "\n",
        "print(x is y)\n",
        "print(x == y)\n",
        "\n",
        "print(id(x))\n",
        "print(id(y))"
      ],
      "execution_count": 6,
      "outputs": [
        {
          "output_type": "stream",
          "text": [
            "True\n",
            "True\n",
            "140411147758704\n",
            "140411147758704\n"
          ],
          "name": "stdout"
        }
      ]
    },
    {
      "cell_type": "markdown",
      "metadata": {
        "id": "QKF9lGdA7rNh",
        "colab_type": "text"
      },
      "source": [
        "#(3) 二者答案為什麼一樣或不一樣？\n",
        "#一樣，因為兩者的內存地址相同，那麼值也一定相同。\n"
      ]
    }
  ]
}