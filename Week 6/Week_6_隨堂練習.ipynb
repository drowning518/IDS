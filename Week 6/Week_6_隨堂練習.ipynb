{
  "nbformat": 4,
  "nbformat_minor": 0,
  "metadata": {
    "colab": {
      "name": "Week 6 隨堂練習",
      "provenance": []
    },
    "kernelspec": {
      "name": "python3",
      "display_name": "Python 3"
    }
  },
  "cells": [
    {
      "cell_type": "code",
      "metadata": {
        "id": "R7nA5l-Hq9b2",
        "colab_type": "code",
        "colab": {
          "base_uri": "https://localhost:8080/",
          "height": 85
        },
        "outputId": "8eada1dc-29d3-4331-be4d-ab9c5b422db3"
      },
      "source": [
        "city = input(\"請輸入您所在的城市：\")\n",
        "weather = input(\"請輸入現在的天氣：\")\n",
        "tempc = input(\"請輸入現在的攝氏氣溫：\")\n",
        "tempc = int(tempc)\n",
        "tempf = tempc*9/5 + 32\n",
        "\n",
        "print(\"我在{}，天氣{}，攝氏{}度，華氏{}度\".format(city, weather, tempc, tempf))"
      ],
      "execution_count": 1,
      "outputs": [
        {
          "output_type": "stream",
          "text": [
            "請輸入您所在的城市：台北\n",
            "請輸入現在的天氣：晴\n",
            "請輸入現在的攝氏氣溫：26\n",
            "我在台北，天氣晴，攝氏26度，華氏78.8度\n"
          ],
          "name": "stdout"
        }
      ]
    },
    {
      "cell_type": "code",
      "metadata": {
        "id": "PjgVXwZ_wsMx",
        "colab_type": "code",
        "colab": {
          "base_uri": "https://localhost:8080/",
          "height": 85
        },
        "outputId": "84e987d6-2a07-4617-8039-898fc1c4249a"
      },
      "source": [
        "id_last_digit = input(\"請輸入您身分證字號的尾數：\")\n",
        "id_last_digit = int(id_last_digit)\n",
        "print(id_last_digit)\n",
        "print(type(id_last_digit))\n",
        "modulo = id_last_digit % 2\n",
        "ans = modulo == 1\n",
        "print(ans)"
      ],
      "execution_count": 2,
      "outputs": [
        {
          "output_type": "stream",
          "text": [
            "請輸入您身分證字號的尾數：5\n",
            "5\n",
            "<class 'int'>\n",
            "True\n"
          ],
          "name": "stdout"
        }
      ]
    }
  ]
}