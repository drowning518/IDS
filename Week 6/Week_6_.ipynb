{
  "nbformat": 4,
  "nbformat_minor": 0,
  "metadata": {
    "colab": {
      "name": "Week 6 .ipynb",
      "provenance": []
    },
    "kernelspec": {
      "name": "python3",
      "display_name": "Python 3"
    }
  },
  "cells": [
    {
      "cell_type": "code",
      "metadata": {
        "id": "WdqD2P6ErEdh",
        "colab_type": "code",
        "colab": {
          "base_uri": "https://localhost:8080/",
          "height": 68
        },
        "outputId": "3050ab5e-7730-46c7-eaa0-57e5c41cacf7"
      },
      "source": [
        "#隨堂練習：月薪超過 4 萬或存款超過 50 萬就發信用卡\n",
        "monthly_income = int(input(\"請輸入月薪：\"))\n",
        "saving_account = int(input(\"請輸入存款：\"))\n",
        "if monthly_income > 40000:\n",
        "    print(\"可以發信用卡~\")\n",
        "elif saving_account > 500000:\n",
        "    print(\"可以發信用卡~\")\n",
        "\n",
        "else: print(\"不可以發信用卡~\")"
      ],
      "execution_count": 5,
      "outputs": [
        {
          "output_type": "stream",
          "text": [
            "請輸入月薪：40001\n",
            "請輸入存款：399999\n",
            "可以發信用卡~\n"
          ],
          "name": "stdout"
        }
      ]
    },
    {
      "cell_type": "code",
      "metadata": {
        "id": "nHVSf1hI5F-4",
        "colab_type": "code",
        "colab": {
          "base_uri": "https://localhost:8080/",
          "height": 51
        },
        "outputId": "93fa033f-8b60-4303-9243-3d5dd10846bf"
      },
      "source": [
        "#隨堂練習：判斷奇數偶數\n",
        "number = int(input(\"請輸入一個正整數：\"))\n",
        "if (number % 2) == 0:\n",
        "   print(\"{} 是偶數！\".format(number))\n",
        "elif(number % 2) == 1:\n",
        "   print(\"{} 是奇數!\".format(number))"
      ],
      "execution_count": 10,
      "outputs": [
        {
          "output_type": "stream",
          "text": [
            "請輸入一個正整數：87\n",
            "87 是奇數!\n"
          ],
          "name": "stdout"
        }
      ]
    },
    {
      "cell_type": "code",
      "metadata": {
        "id": "HD6HwP274h0y",
        "colab_type": "code",
        "colab": {
          "base_uri": "https://localhost:8080/",
          "height": 51
        },
        "outputId": "8a4df2da-0097-4e8d-e5bc-6c6452b30cae"
      },
      "source": [
        "#隨堂練習：依身分證字號尾數決定星期幾可以購買口罩\n",
        "#奇數：星期一三五日領\n",
        "#偶數：星期二四六日領\n",
        "id_last_number = int(input(\"請輸入身分證尾數號:\"))\n",
        "if (id_last_number % 2) == 0:\n",
        "  print(\"星期二四六日可領口罩\")\n",
        "elif (id_last_number % 2) == 1:\n",
        "  print(\"星期一三五日可領口罩\")\n"
      ],
      "execution_count": 13,
      "outputs": [
        {
          "output_type": "stream",
          "text": [
            "請輸入身分證尾數號:1\n",
            "星期一三五日可領口罩\n"
          ],
          "name": "stdout"
        }
      ]
    },
    {
      "cell_type": "code",
      "metadata": {
        "id": "TpCBg3uVBP_Q",
        "colab_type": "code",
        "colab": {
          "base_uri": "https://localhost:8080/",
          "height": 68
        },
        "outputId": "32deb06e-bfe8-4730-e2ee-e90b27ad633c"
      },
      "source": [
        "#隨堂練習：判斷 BMI 的類別標籤\n",
        "height=int(input(\"請輸入身高（cm）?\"))\n",
        "weight=int(input(\"請輸入體重（kg）?\"))\n",
        "BMI=weight/(height/100)**2\n",
        "if(BMI < 18.5):\n",
        "  print(\"身高 {} 公分、體重 {} 公斤，是 Underweight\".format(height, weight))\n",
        "elif(18.5 <= BMI < 25):\n",
        "  print(\"身高 {} 公分、體重 {} 公斤，是 Normal weight \".format(height, weight))\n",
        "elif(25 <= BMI <30 ):\n",
        "  print(\"身高 {} 公分、體重 {} 公斤，是 Overweight \".format(height, weight))\n",
        "else: print(\"身高 {} 公分、體重 {} 公斤，是 Obese \".format(height, weight))"
      ],
      "execution_count": 17,
      "outputs": [
        {
          "output_type": "stream",
          "text": [
            "請輸入身高（cm）?170\n",
            "請輸入體重（kg）?100\n",
            "身高 170 公分、體重 100 公斤，是 Obese \n"
          ],
          "name": "stdout"
        }
      ]
    },
    {
      "cell_type": "code",
      "metadata": {
        "id": "TNGU8pl2GDOf",
        "colab_type": "code",
        "colab": {
          "base_uri": "https://localhost:8080/",
          "height": 51
        },
        "outputId": "c20269bf-0a39-4d01-eee7-2b0a4b6bb702"
      },
      "source": [
        "#Fizz-Buzz:\n",
        "#以 input() 函數請使用者輸入一個正整數\n",
        "#如果是 3 的倍數印出 \"Fizz\"\n",
        "#如果是 5 的倍數印出 \"Buzz\"\n",
        "#如果是 15 的倍數印出 \"Fizz Buzz\"\n",
        "#其他情況印出該正整數即可\n",
        "number = int(input(\"請輸入一個正整數：\"))\n",
        "if(number % 15)== 0:\n",
        "  print(\"Fizz Buzz\")\n",
        "elif(number % 3) == 0:\n",
        "  print(\"Fizz\")\n",
        "elif(number % 5) == 0:\n",
        "  print(\"Buzz\")\n",
        "else:print(number)"
      ],
      "execution_count": 23,
      "outputs": [
        {
          "output_type": "stream",
          "text": [
            "請輸入一個正整數：2\n",
            "2\n"
          ],
          "name": "stdout"
        }
      ]
    }
  ]
}