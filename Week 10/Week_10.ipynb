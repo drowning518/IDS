{
  "nbformat": 4,
  "nbformat_minor": 0,
  "metadata": {
    "colab": {
      "name": "Week 10",
      "provenance": []
    },
    "kernelspec": {
      "name": "python3",
      "display_name": "Python 3"
    }
  },
  "cells": [
    {
      "cell_type": "code",
      "metadata": {
        "id": "JuVVk6JK-n4Q",
        "colab_type": "code",
        "colab": {}
      },
      "source": [
        "# variable vs. value: 1-on-1\n",
        "lucky_num_0 = 7\n",
        "lucky_num_1 = 24\n",
        "lucky_num_2 = 5566"
      ],
      "execution_count": 0,
      "outputs": []
    },
    {
      "cell_type": "code",
      "metadata": {
        "id": "4SOf5tNW-2qC",
        "colab_type": "code",
        "colab": {}
      },
      "source": [
        "# variable vs. values: 1-on-multiple\n",
        "lucky_numbers = [7, 24, 5566]"
      ],
      "execution_count": 0,
      "outputs": []
    },
    {
      "cell_type": "code",
      "metadata": {
        "id": "N1fpOzlC_E-_",
        "colab_type": "code",
        "colab": {}
      },
      "source": [
        "# variable vs. value: 1-on-1\n",
        "sat = \"Saturday\"\n",
        "sun = \"Sunday\""
      ],
      "execution_count": 0,
      "outputs": []
    },
    {
      "cell_type": "code",
      "metadata": {
        "id": "Or8XsAHt_H6n",
        "colab_type": "code",
        "colab": {}
      },
      "source": [
        "# variable vs. values: 1-on-multiple\n",
        "weekend = [\"Saturday\", \"Sunday\"]\n",
        "weekdays = [\"Monday\", \"Tuesday\", \"Wednesday\", \"Thursday\", \"Friday\"]"
      ],
      "execution_count": 0,
      "outputs": []
    },
    {
      "cell_type": "code",
      "metadata": {
        "id": "JkKYW1rH_LpH",
        "colab_type": "code",
        "outputId": "0b0a1b4b-9b51-4602-b0a6-d7f589eb9ade",
        "colab": {
          "base_uri": "https://localhost:8080/",
          "height": 34
        }
      },
      "source": [
        "print(type(lucky_numbers))"
      ],
      "execution_count": 0,
      "outputs": [
        {
          "output_type": "stream",
          "text": [
            "<class 'list'>\n"
          ],
          "name": "stdout"
        }
      ]
    },
    {
      "cell_type": "code",
      "metadata": {
        "id": "a4AChH_W_YS_",
        "colab_type": "code",
        "outputId": "ea52eca1-ed66-475c-b4af-6b3f9d61710a",
        "colab": {
          "base_uri": "https://localhost:8080/",
          "height": 34
        }
      },
      "source": [
        "print(type(weekend))"
      ],
      "execution_count": 0,
      "outputs": [
        {
          "output_type": "stream",
          "text": [
            "<class 'list'>\n"
          ],
          "name": "stdout"
        }
      ]
    },
    {
      "cell_type": "code",
      "metadata": {
        "id": "T86JUJKI_cA-",
        "colab_type": "code",
        "outputId": "2ab08bf0-9e39-4453-86b4-694f7f5b2539",
        "colab": {
          "base_uri": "https://localhost:8080/",
          "height": 34
        }
      },
      "source": [
        "print(type(weekdays))"
      ],
      "execution_count": 0,
      "outputs": [
        {
          "output_type": "stream",
          "text": [
            "<class 'list'>\n"
          ],
          "name": "stdout"
        }
      ]
    },
    {
      "cell_type": "code",
      "metadata": {
        "id": "UN76IFm-_eZ2",
        "colab_type": "code",
        "outputId": "307b9395-eab9-4bdd-81e6-7b24aece7e19",
        "colab": {
          "base_uri": "https://localhost:8080/",
          "height": 68
        }
      },
      "source": [
        "print(len(lucky_numbers))\n",
        "print(len(weekend))\n",
        "print(len(weekdays))"
      ],
      "execution_count": 0,
      "outputs": [
        {
          "output_type": "stream",
          "text": [
            "3\n",
            "2\n",
            "5\n"
          ],
          "name": "stdout"
        }
      ]
    },
    {
      "cell_type": "code",
      "metadata": {
        "id": "JHP3YSgt_go4",
        "colab_type": "code",
        "outputId": "6d1d316e-d7ca-4c56-8361-39352a3098d0",
        "colab": {
          "base_uri": "https://localhost:8080/",
          "height": 34
        }
      },
      "source": [
        "my_fav_weekday = \"Friday\"\n",
        "print(\"My favorite weekday is {}.\".format(my_fav_weekday))"
      ],
      "execution_count": 0,
      "outputs": [
        {
          "output_type": "stream",
          "text": [
            "My favorite weekday is Friday.\n"
          ],
          "name": "stdout"
        }
      ]
    },
    {
      "cell_type": "code",
      "metadata": {
        "id": "hmuIBc-O_ji2",
        "colab_type": "code",
        "outputId": "2bdfdce4-47d2-4447-cb7c-921a1723cdbc",
        "colab": {
          "base_uri": "https://localhost:8080/",
          "height": 51
        }
      },
      "source": [
        "#append\n",
        "print(lucky_numbers)\n",
        "lucky_numbers.append(87)\n",
        "print(lucky_numbers)"
      ],
      "execution_count": 0,
      "outputs": [
        {
          "output_type": "stream",
          "text": [
            "[7, 24, 5566]\n",
            "[7, 24, 5566, 87]\n"
          ],
          "name": "stdout"
        }
      ]
    },
    {
      "cell_type": "code",
      "metadata": {
        "id": "lPCuXlFU_rT3",
        "colab_type": "code",
        "outputId": "e5ae633f-c373-47db-e2ee-9980ac6cfc39",
        "colab": {
          "base_uri": "https://localhost:8080/",
          "height": 51
        }
      },
      "source": [
        "#pop\n",
        "print(lucky_numbers)\n",
        "lucky_numbers.pop()\n",
        "print(lucky_numbers)"
      ],
      "execution_count": 0,
      "outputs": [
        {
          "output_type": "stream",
          "text": [
            "[7, 24, 5566, 87]\n",
            "[7, 24, 5566]\n"
          ],
          "name": "stdout"
        }
      ]
    },
    {
      "cell_type": "code",
      "metadata": {
        "id": "Rq5mZ_77_4b-",
        "colab_type": "code",
        "outputId": "bae0ff0c-f5f9-4dbc-cdf1-9e9335720478",
        "colab": {
          "base_uri": "https://localhost:8080/",
          "height": 51
        }
      },
      "source": [
        "my_fav_group = lucky_numbers.pop()\n",
        "print(lucky_numbers)\n",
        "print(my_fav_group)"
      ],
      "execution_count": 0,
      "outputs": [
        {
          "output_type": "stream",
          "text": [
            "[7, 24]\n",
            "5566\n"
          ],
          "name": "stdout"
        }
      ]
    },
    {
      "cell_type": "code",
      "metadata": {
        "id": "003W0Kij_9iu",
        "colab_type": "code",
        "outputId": "2c2dfcbb-0aac-4280-c70c-599c8b97a008",
        "colab": {
          "base_uri": "https://localhost:8080/",
          "height": 51
        }
      },
      "source": [
        "print(weekdays)\n",
        "print(weekend)"
      ],
      "execution_count": 0,
      "outputs": [
        {
          "output_type": "stream",
          "text": [
            "['Monday', 'Tuesday', 'Wednesday', 'Thursday', 'Friday']\n",
            "['Saturday', 'Sunday']\n"
          ],
          "name": "stdout"
        }
      ]
    },
    {
      "cell_type": "code",
      "metadata": {
        "id": "foR6m1qvAAam",
        "colab_type": "code",
        "outputId": "0cf4b834-dc46-48f7-e811-2a25c439f050",
        "colab": {
          "base_uri": "https://localhost:8080/",
          "height": 34
        }
      },
      "source": [
        "weekdays + weekend"
      ],
      "execution_count": 0,
      "outputs": [
        {
          "output_type": "execute_result",
          "data": {
            "text/plain": [
              "['Monday', 'Tuesday', 'Wednesday', 'Thursday', 'Friday', 'Saturday', 'Sunday']"
            ]
          },
          "metadata": {
            "tags": []
          },
          "execution_count": 15
        }
      ]
    },
    {
      "cell_type": "code",
      "metadata": {
        "id": "j7O9ZEcWADG2",
        "colab_type": "code",
        "outputId": "b6f0754c-6206-4cff-f5a5-3e8f6cf59622",
        "colab": {
          "base_uri": "https://localhost:8080/",
          "height": 34
        }
      },
      "source": [
        "weekend + weekdays"
      ],
      "execution_count": 0,
      "outputs": [
        {
          "output_type": "execute_result",
          "data": {
            "text/plain": [
              "['Saturday', 'Sunday', 'Monday', 'Tuesday', 'Wednesday', 'Thursday', 'Friday']"
            ]
          },
          "metadata": {
            "tags": []
          },
          "execution_count": 16
        }
      ]
    },
    {
      "cell_type": "code",
      "metadata": {
        "id": "zJPq-69fAH61",
        "colab_type": "code",
        "colab": {
          "base_uri": "https://localhost:8080/",
          "height": 102
        },
        "outputId": "63fbc33f-122b-41b5-ab68-821ed6558987"
      },
      "source": [
        "print(weekdays[0])\n",
        "print(weekdays[1])\n",
        "print(weekdays[2])\n",
        "print(weekdays[3])\n",
        "print(weekdays[4])"
      ],
      "execution_count": 17,
      "outputs": [
        {
          "output_type": "stream",
          "text": [
            "Monday\n",
            "Tuesday\n",
            "Wednesday\n",
            "Thursday\n",
            "Friday\n"
          ],
          "name": "stdout"
        }
      ]
    },
    {
      "cell_type": "code",
      "metadata": {
        "id": "7sRbvwJKIb13",
        "colab_type": "code",
        "colab": {
          "base_uri": "https://localhost:8080/",
          "height": 102
        },
        "outputId": "5ee97ec2-a384-4a6c-e5c2-e727825b8808"
      },
      "source": [
        "i = 0\n",
        "while i < 5:\n",
        "    print(weekdays[i])\n",
        "    i += 1"
      ],
      "execution_count": 18,
      "outputs": [
        {
          "output_type": "stream",
          "text": [
            "Monday\n",
            "Tuesday\n",
            "Wednesday\n",
            "Thursday\n",
            "Friday\n"
          ],
          "name": "stdout"
        }
      ]
    },
    {
      "cell_type": "code",
      "metadata": {
        "id": "BHGO9ngFId9c",
        "colab_type": "code",
        "colab": {
          "base_uri": "https://localhost:8080/",
          "height": 51
        },
        "outputId": "e7f0fa31-94be-48bc-95e7-e0eb8318e5af"
      },
      "source": [
        "i = 0\n",
        "while i < 2:\n",
        "    print(weekend[i])\n",
        "    i += 1"
      ],
      "execution_count": 19,
      "outputs": [
        {
          "output_type": "stream",
          "text": [
            "Saturday\n",
            "Sunday\n"
          ],
          "name": "stdout"
        }
      ]
    },
    {
      "cell_type": "code",
      "metadata": {
        "id": "k44pyUVzIgtM",
        "colab_type": "code",
        "colab": {
          "base_uri": "https://localhost:8080/",
          "height": 51
        },
        "outputId": "aa015027-7d3d-4efb-fa02-4549f2b55abd"
      },
      "source": [
        "i = 0\n",
        "while i < len(weekend):\n",
        "    print(weekend[i])\n",
        "    i += 1"
      ],
      "execution_count": 20,
      "outputs": [
        {
          "output_type": "stream",
          "text": [
            "Saturday\n",
            "Sunday\n"
          ],
          "name": "stdout"
        }
      ]
    },
    {
      "cell_type": "code",
      "metadata": {
        "id": "-dCXxv-yIjLM",
        "colab_type": "code",
        "colab": {
          "base_uri": "https://localhost:8080/",
          "height": 102
        },
        "outputId": "4349917c-2517-4326-8c13-ec18d26a1646"
      },
      "source": [
        "i = 0\n",
        "while i < len(weekdays):\n",
        "    print(weekdays[i])\n",
        "    i += 1"
      ],
      "execution_count": 21,
      "outputs": [
        {
          "output_type": "stream",
          "text": [
            "Monday\n",
            "Tuesday\n",
            "Wednesday\n",
            "Thursday\n",
            "Friday\n"
          ],
          "name": "stdout"
        }
      ]
    },
    {
      "cell_type": "code",
      "metadata": {
        "id": "hTxFBBnAImWV",
        "colab_type": "code",
        "colab": {
          "base_uri": "https://localhost:8080/",
          "height": 102
        },
        "outputId": "ef21928a-e50a-4e81-be4c-cfedb34ce714"
      },
      "source": [
        "print(weekdays[-1])\n",
        "print(weekdays[-2])\n",
        "print(weekdays[-3])\n",
        "print(weekdays[-4])\n",
        "print(weekdays[-5])"
      ],
      "execution_count": 22,
      "outputs": [
        {
          "output_type": "stream",
          "text": [
            "Friday\n",
            "Thursday\n",
            "Wednesday\n",
            "Tuesday\n",
            "Monday\n"
          ],
          "name": "stdout"
        }
      ]
    },
    {
      "cell_type": "code",
      "metadata": {
        "id": "6hfHmICzIqmU",
        "colab_type": "code",
        "colab": {
          "base_uri": "https://localhost:8080/",
          "height": 102
        },
        "outputId": "7a7eb7be-b6ae-47a5-e64b-1c863a422158"
      },
      "source": [
        "i = -1\n",
        "while i >= -5:\n",
        "    print(weekdays[i])\n",
        "    i -= 1"
      ],
      "execution_count": 23,
      "outputs": [
        {
          "output_type": "stream",
          "text": [
            "Friday\n",
            "Thursday\n",
            "Wednesday\n",
            "Tuesday\n",
            "Monday\n"
          ],
          "name": "stdout"
        }
      ]
    },
    {
      "cell_type": "code",
      "metadata": {
        "id": "8Ly-yNr-Is98",
        "colab_type": "code",
        "colab": {
          "base_uri": "https://localhost:8080/",
          "height": 34
        },
        "outputId": "3f1aeba5-e3c6-46ab-e4d4-154ef69a86a7"
      },
      "source": [
        "weekdays"
      ],
      "execution_count": 24,
      "outputs": [
        {
          "output_type": "execute_result",
          "data": {
            "text/plain": [
              "['Monday', 'Tuesday', 'Wednesday', 'Thursday', 'Friday']"
            ]
          },
          "metadata": {
            "tags": []
          },
          "execution_count": 24
        }
      ]
    },
    {
      "cell_type": "code",
      "metadata": {
        "id": "xUJXyEcjIwwN",
        "colab_type": "code",
        "colab": {
          "base_uri": "https://localhost:8080/",
          "height": 34
        },
        "outputId": "d2055f96-52ea-4537-d19c-ae7de173c151"
      },
      "source": [
        "weekdays[0:3:1]"
      ],
      "execution_count": 25,
      "outputs": [
        {
          "output_type": "execute_result",
          "data": {
            "text/plain": [
              "['Monday', 'Tuesday', 'Wednesday']"
            ]
          },
          "metadata": {
            "tags": []
          },
          "execution_count": 25
        }
      ]
    },
    {
      "cell_type": "code",
      "metadata": {
        "id": "jCh-FGDHIzqb",
        "colab_type": "code",
        "colab": {
          "base_uri": "https://localhost:8080/",
          "height": 34
        },
        "outputId": "20a5a6cb-b37f-48eb-abe0-6ce75d220f56"
      },
      "source": [
        "weekdays[0:5:2]"
      ],
      "execution_count": 26,
      "outputs": [
        {
          "output_type": "execute_result",
          "data": {
            "text/plain": [
              "['Monday', 'Wednesday', 'Friday']"
            ]
          },
          "metadata": {
            "tags": []
          },
          "execution_count": 26
        }
      ]
    },
    {
      "cell_type": "code",
      "metadata": {
        "id": "-ez3jzaVI2pE",
        "colab_type": "code",
        "colab": {
          "base_uri": "https://localhost:8080/",
          "height": 34
        },
        "outputId": "7408355e-b905-4833-f677-90ed59019752"
      },
      "source": [
        "weekdays[::2]"
      ],
      "execution_count": 27,
      "outputs": [
        {
          "output_type": "execute_result",
          "data": {
            "text/plain": [
              "['Monday', 'Wednesday', 'Friday']"
            ]
          },
          "metadata": {
            "tags": []
          },
          "execution_count": 27
        }
      ]
    },
    {
      "cell_type": "code",
      "metadata": {
        "id": "5p7db7iUI4rU",
        "colab_type": "code",
        "colab": {}
      },
      "source": [
        "import requests\n",
        "from bs4 import BeautifulSoup\n",
        "\n",
        "response = requests.get('https://www.imdb.com/title/tt4154796/')\n",
        "soup = BeautifulSoup(response.text)"
      ],
      "execution_count": 0,
      "outputs": []
    },
    {
      "cell_type": "code",
      "metadata": {
        "id": "rILmdMsBTdaC",
        "colab_type": "code",
        "colab": {
          "base_uri": "https://localhost:8080/",
          "height": 34
        },
        "outputId": "f6e8ada4-31ab-4ae3-ee85-660602fa7618"
      },
      "source": [
        "cast_list_a = soup.select(\"#titleCast .loadlate\")\n",
        "print(len(cast_list_a))"
      ],
      "execution_count": 29,
      "outputs": [
        {
          "output_type": "stream",
          "text": [
            "15\n"
          ],
          "name": "stdout"
        }
      ]
    },
    {
      "cell_type": "code",
      "metadata": {
        "id": "EvBPfGEyThbf",
        "colab_type": "code",
        "colab": {
          "base_uri": "https://localhost:8080/",
          "height": 68
        },
        "outputId": "d7ad7201-330d-485a-fed3-0d500c801d64"
      },
      "source": [
        "cast_list = []\n",
        "print(cast_list)\n",
        "print(type(cast_list))\n",
        "print(len(cast_list))"
      ],
      "execution_count": 30,
      "outputs": [
        {
          "output_type": "stream",
          "text": [
            "[]\n",
            "<class 'list'>\n",
            "0\n"
          ],
          "name": "stdout"
        }
      ]
    },
    {
      "cell_type": "code",
      "metadata": {
        "id": "x9cEuo8cTkTu",
        "colab_type": "code",
        "colab": {
          "base_uri": "https://localhost:8080/",
          "height": 34
        },
        "outputId": "5d0a4030-7630-41d5-d70c-03b65d818570"
      },
      "source": [
        "actor_0 = cast_list_a[0].get('alt').strip()\n",
        "cast_list.append(actor_0)\n",
        "print(cast_list)"
      ],
      "execution_count": 31,
      "outputs": [
        {
          "output_type": "stream",
          "text": [
            "['Robert Downey Jr.']\n"
          ],
          "name": "stdout"
        }
      ]
    },
    {
      "cell_type": "code",
      "metadata": {
        "id": "tZxCG5hCToJv",
        "colab_type": "code",
        "colab": {
          "base_uri": "https://localhost:8080/",
          "height": 34
        },
        "outputId": "99ea4f14-901e-4a8d-d122-cf547293ec4b"
      },
      "source": [
        "actor_1 = cast_list_a[1].get('alt').strip()\n",
        "cast_list.append(actor_1)\n",
        "print(cast_list)"
      ],
      "execution_count": 32,
      "outputs": [
        {
          "output_type": "stream",
          "text": [
            "['Robert Downey Jr.', 'Chris Evans']\n"
          ],
          "name": "stdout"
        }
      ]
    },
    {
      "cell_type": "code",
      "metadata": {
        "id": "skETu-UnTrv_",
        "colab_type": "code",
        "colab": {
          "base_uri": "https://localhost:8080/",
          "height": 68
        },
        "outputId": "8e83a3d0-2c06-411f-dd53-f9b27320c6da"
      },
      "source": [
        "cast = []\n",
        "print(cast)\n",
        "print(type(cast))\n",
        "print(len(cast))"
      ],
      "execution_count": 33,
      "outputs": [
        {
          "output_type": "stream",
          "text": [
            "[]\n",
            "<class 'list'>\n",
            "0\n"
          ],
          "name": "stdout"
        }
      ]
    },
    {
      "cell_type": "code",
      "metadata": {
        "id": "hnRp2vfgT0If",
        "colab_type": "code",
        "colab": {}
      },
      "source": [
        "i = 0\n",
        "while i < len(cast_list_a):\n",
        "    actor = cast_list_a[i].get('alt').strip()\n",
        "    cast.append(actor)\n",
        "    i += 1"
      ],
      "execution_count": 0,
      "outputs": []
    },
    {
      "cell_type": "code",
      "metadata": {
        "id": "9MXcag6yT9Ae",
        "colab_type": "code",
        "colab": {
          "base_uri": "https://localhost:8080/",
          "height": 54
        },
        "outputId": "adcf9d1a-5cc1-4e90-d127-86815af7e13d"
      },
      "source": [
        "print(cast)"
      ],
      "execution_count": 35,
      "outputs": [
        {
          "output_type": "stream",
          "text": [
            "['Robert Downey Jr.', 'Chris Evans', 'Mark Ruffalo', 'Chris Hemsworth', 'Scarlett Johansson', 'Jeremy Renner', 'Don Cheadle', 'Paul Rudd', 'Benedict Cumberbatch', 'Chadwick Boseman', 'Brie Larson', 'Tom Holland', 'Karen Gillan', 'Zoe Saldana', 'Evangeline Lilly']\n"
          ],
          "name": "stdout"
        }
      ]
    },
    {
      "cell_type": "code",
      "metadata": {
        "id": "xnOuiTOSUA33",
        "colab_type": "code",
        "colab": {}
      },
      "source": [
        "#cast = ['Robert Downey Jr.', 'Chris Evans', 'Mark Ruffalo', 'Chris Hemsworth', 'Scarlett Johansson', 'Jeremy Renner', 'Don Cheadle', 'Paul Rudd', 'Benedict Cumberbatch', 'Chadwick Boseman', 'Brie Larson', 'Tom Holland', 'Karen Gillan', 'Zoe Saldana', 'Evangeline Lilly']"
      ],
      "execution_count": 0,
      "outputs": []
    },
    {
      "cell_type": "code",
      "metadata": {
        "id": "5r-DW4OGUGlW",
        "colab_type": "code",
        "colab": {
          "base_uri": "https://localhost:8080/",
          "height": 51
        },
        "outputId": "2373e172-68a8-422e-b4d7-54c6aaf5f5bd"
      },
      "source": [
        "print(cast[8])\n",
        "print(cast[-7])"
      ],
      "execution_count": 37,
      "outputs": [
        {
          "output_type": "stream",
          "text": [
            "Benedict Cumberbatch\n",
            "Benedict Cumberbatch\n"
          ],
          "name": "stdout"
        }
      ]
    },
    {
      "cell_type": "code",
      "metadata": {
        "id": "IqKP9mtMUNVv",
        "colab_type": "code",
        "colab": {
          "base_uri": "https://localhost:8080/",
          "height": 51
        },
        "outputId": "bda3146d-0e80-46df-de52-f2bd7af0f575"
      },
      "source": [
        "print(len(cast))\n",
        "print(cast[:6])"
      ],
      "execution_count": 38,
      "outputs": [
        {
          "output_type": "stream",
          "text": [
            "15\n",
            "['Robert Downey Jr.', 'Chris Evans', 'Mark Ruffalo', 'Chris Hemsworth', 'Scarlett Johansson', 'Jeremy Renner']\n"
          ],
          "name": "stdout"
        }
      ]
    },
    {
      "cell_type": "code",
      "metadata": {
        "id": "pLpfD8jmUQF-",
        "colab_type": "code",
        "colab": {
          "base_uri": "https://localhost:8080/",
          "height": 71
        },
        "outputId": "d1577a69-efb0-460c-d55a-1a4b222aee83"
      },
      "source": [
        "import pandas as pd\n",
        "\n",
        "time_series_df = pd.read_csv(\"https://raw.githubusercontent.com/CSSEGISandData/COVID-19/master/csse_covid_19_data/csse_covid_19_time_series/time_series_covid19_confirmed_global.csv\")\n",
        "cumulative_confirmed = list(time_series_df[time_series_df['Country/Region'] == 'Taiwan*'].values.ravel()[4:].astype(int))\n",
        "cumulative_confirmed_lag = list(time_series_df[time_series_df['Country/Region'] == 'Taiwan*'].values.ravel()[4:].astype(int))\n",
        "print(cumulative_confirmed)\n",
        "print(cumulative_confirmed_lag)"
      ],
      "execution_count": 41,
      "outputs": [
        {
          "output_type": "stream",
          "text": [
            "[1, 1, 3, 3, 4, 5, 8, 8, 9, 10, 10, 10, 10, 11, 11, 16, 16, 17, 18, 18, 18, 18, 18, 18, 18, 20, 22, 22, 23, 24, 26, 26, 28, 30, 31, 32, 32, 34, 39, 40, 41, 42, 42, 44, 45, 45, 45, 45, 47, 48, 49, 50, 53, 59, 67, 77, 100, 108, 135, 153, 169, 195, 215, 235, 252, 267, 283, 298, 306, 322, 329, 339, 348, 355, 363, 373, 376, 379, 380, 382, 385, 388, 393, 393, 395, 395, 395, 398, 420, 422, 425, 426, 427, 428, 429, 429, 429, 429, 429, 429, 429, 432, 436, 438, 438, 439, 440]\n",
            "[1, 1, 3, 3, 4, 5, 8, 8, 9, 10, 10, 10, 10, 11, 11, 16, 16, 17, 18, 18, 18, 18, 18, 18, 18, 20, 22, 22, 23, 24, 26, 26, 28, 30, 31, 32, 32, 34, 39, 40, 41, 42, 42, 44, 45, 45, 45, 45, 47, 48, 49, 50, 53, 59, 67, 77, 100, 108, 135, 153, 169, 195, 215, 235, 252, 267, 283, 298, 306, 322, 329, 339, 348, 355, 363, 373, 376, 379, 380, 382, 385, 388, 393, 393, 395, 395, 395, 398, 420, 422, 425, 426, 427, 428, 429, 429, 429, 429, 429, 429, 429, 432, 436, 438, 438, 439, 440]\n"
          ],
          "name": "stdout"
        }
      ]
    },
    {
      "cell_type": "code",
      "metadata": {
        "id": "JgmMX2-EUTNF",
        "colab_type": "code",
        "colab": {
          "base_uri": "https://localhost:8080/",
          "height": 51
        },
        "outputId": "3d598386-41c4-4a09-93dc-2f8edc9ee9e8"
      },
      "source": [
        "print(len(cumulative_confirmed))\n",
        "print(cumulative_confirmed[-1])"
      ],
      "execution_count": 40,
      "outputs": [
        {
          "output_type": "stream",
          "text": [
            "107\n",
            "440\n"
          ],
          "name": "stdout"
        }
      ]
    },
    {
      "cell_type": "code",
      "metadata": {
        "id": "lyLFmJnyUWf1",
        "colab_type": "code",
        "colab": {
          "base_uri": "https://localhost:8080/",
          "height": 51
        },
        "outputId": "953b3806-96d4-4021-c6a4-62a3287796d8"
      },
      "source": [
        "cumulative_confirmed_lag.insert(0, 0)\n",
        "print(len(cumulative_confirmed_lag))\n",
        "print(cumulative_confirmed_lag[0])"
      ],
      "execution_count": 42,
      "outputs": [
        {
          "output_type": "stream",
          "text": [
            "108\n",
            "0\n"
          ],
          "name": "stdout"
        }
      ]
    },
    {
      "cell_type": "code",
      "metadata": {
        "id": "itShfw-FZwsO",
        "colab_type": "code",
        "colab": {
          "base_uri": "https://localhost:8080/",
          "height": 51
        },
        "outputId": "fa0ecaa5-c81d-42ca-b08a-7345fcaab2b0"
      },
      "source": [
        "cumulative_confirmed_lag.pop()\n",
        "print(len(cumulative_confirmed_lag))\n",
        "print(cumulative_confirmed_lag[-1])"
      ],
      "execution_count": 43,
      "outputs": [
        {
          "output_type": "stream",
          "text": [
            "107\n",
            "439\n"
          ],
          "name": "stdout"
        }
      ]
    },
    {
      "cell_type": "code",
      "metadata": {
        "id": "tmHTcOQ8ZzDv",
        "colab_type": "code",
        "colab": {
          "base_uri": "https://localhost:8080/",
          "height": 71
        },
        "outputId": "21a25422-6e68-4b03-8703-c89b66d1d5d8"
      },
      "source": [
        "print(cumulative_confirmed)\n",
        "print(cumulative_confirmed_lag)"
      ],
      "execution_count": 44,
      "outputs": [
        {
          "output_type": "stream",
          "text": [
            "[1, 1, 3, 3, 4, 5, 8, 8, 9, 10, 10, 10, 10, 11, 11, 16, 16, 17, 18, 18, 18, 18, 18, 18, 18, 20, 22, 22, 23, 24, 26, 26, 28, 30, 31, 32, 32, 34, 39, 40, 41, 42, 42, 44, 45, 45, 45, 45, 47, 48, 49, 50, 53, 59, 67, 77, 100, 108, 135, 153, 169, 195, 215, 235, 252, 267, 283, 298, 306, 322, 329, 339, 348, 355, 363, 373, 376, 379, 380, 382, 385, 388, 393, 393, 395, 395, 395, 398, 420, 422, 425, 426, 427, 428, 429, 429, 429, 429, 429, 429, 429, 432, 436, 438, 438, 439, 440]\n",
            "[0, 1, 1, 3, 3, 4, 5, 8, 8, 9, 10, 10, 10, 10, 11, 11, 16, 16, 17, 18, 18, 18, 18, 18, 18, 18, 20, 22, 22, 23, 24, 26, 26, 28, 30, 31, 32, 32, 34, 39, 40, 41, 42, 42, 44, 45, 45, 45, 45, 47, 48, 49, 50, 53, 59, 67, 77, 100, 108, 135, 153, 169, 195, 215, 235, 252, 267, 283, 298, 306, 322, 329, 339, 348, 355, 363, 373, 376, 379, 380, 382, 385, 388, 393, 393, 395, 395, 395, 398, 420, 422, 425, 426, 427, 428, 429, 429, 429, 429, 429, 429, 429, 432, 436, 438, 438, 439]\n"
          ],
          "name": "stdout"
        }
      ]
    },
    {
      "cell_type": "code",
      "metadata": {
        "id": "fXhPCoE-Z5AJ",
        "colab_type": "code",
        "colab": {}
      },
      "source": [
        ""
      ],
      "execution_count": 0,
      "outputs": []
    }
  ]
}