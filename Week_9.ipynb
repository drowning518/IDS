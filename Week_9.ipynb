{
  "nbformat": 4,
  "nbformat_minor": 0,
  "metadata": {
    "colab": {
      "name": "Week 9",
      "provenance": [],
      "authorship_tag": "ABX9TyO4dDeZaJ3wofT6NRddpPfB",
      "include_colab_link": true
    },
    "kernelspec": {
      "name": "python3",
      "display_name": "Python 3"
    }
  },
  "cells": [
    {
      "cell_type": "markdown",
      "metadata": {
        "id": "view-in-github",
        "colab_type": "text"
      },
      "source": [
        "<a href=\"https://colab.research.google.com/github/drowning518/IDS/blob/master/Week_9.ipynb\" target=\"_parent\"><img src=\"https://colab.research.google.com/assets/colab-badge.svg\" alt=\"Open In Colab\"/></a>"
      ]
    },
    {
      "cell_type": "code",
      "metadata": {
        "id": "KWiDRjVa1fpV",
        "colab_type": "code",
        "colab": {
          "base_uri": "https://localhost:8080/",
          "height": 153
        },
        "outputId": "d7fc5a4f-bf3d-49a9-c598-c36b86e1b7a5"
      },
      "source": [
        "x = int(input(\"請輸入起始的整數:\"))\n",
        "y = int(input(\"請輸入終止的整數:\"))\n",
        "i = x\n",
        "while i <= y:\n",
        "  print(i)\n",
        "  i += 1"
      ],
      "execution_count": 1,
      "outputs": [
        {
          "output_type": "stream",
          "text": [
            "請輸入起始的整數:5\n",
            "請輸入終止的整數:10\n",
            "5\n",
            "6\n",
            "7\n",
            "8\n",
            "9\n",
            "10\n"
          ],
          "name": "stdout"
        }
      ]
    },
    {
      "cell_type": "code",
      "metadata": {
        "id": "4yQZRC-QCdJB",
        "colab_type": "code",
        "colab": {
          "base_uri": "https://localhost:8080/",
          "height": 85
        },
        "outputId": "bed3eb54-bead-4760-b39e-bd00a3580bc1"
      },
      "source": [
        "x = int(input(\"請輸入起始的整數:\"))\n",
        "y = int(input(\"請輸入終止的整數:\"))\n",
        "odd_counter = 0\n",
        "i = x\n",
        "while i <= y:\n",
        "    if i % 2 == 1:\n",
        "     odd_counter += 1\n",
        "    i += 1\n",
        "print(\"=====\")\n",
        "print(odd_counter)"
      ],
      "execution_count": 7,
      "outputs": [
        {
          "output_type": "stream",
          "text": [
            "請輸入起始的整數:5\n",
            "請輸入終止的整數:10\n",
            "=====\n",
            "3\n"
          ],
          "name": "stdout"
        }
      ]
    },
    {
      "cell_type": "code",
      "metadata": {
        "id": "3lqSuTgdIu3m",
        "colab_type": "code",
        "colab": {
          "base_uri": "https://localhost:8080/",
          "height": 85
        },
        "outputId": "a3b80c63-1c4c-4666-b471-6eb8e634d5ee"
      },
      "source": [
        "x = int(input(\"請輸入起始的整數:\"))\n",
        "y = int(input(\"請輸入終止的整數:\"))\n",
        "odd_counter = 0 # 歸零\n",
        "i = x # start\n",
        "while i <= y: # stop\n",
        "    # task\n",
        "    if i % 2 == 1:\n",
        "        #odd_counter = odd_counter + 1 # = NOT ==\n",
        "        odd_counter += 1 # 計數累計\n",
        "    #print(odd_counter)\n",
        "    i += 1 # step\n",
        "print(\"======\")\n",
        "print(odd_counter)"
      ],
      "execution_count": 5,
      "outputs": [
        {
          "output_type": "stream",
          "text": [
            "請輸入起始的整數:5\n",
            "請輸入終止的整數:10\n",
            "======\n",
            "3\n"
          ],
          "name": "stdout"
        }
      ]
    },
    {
      "cell_type": "code",
      "metadata": {
        "id": "3hfIp3Y9HGPw",
        "colab_type": "code",
        "colab": {
          "base_uri": "https://localhost:8080/",
          "height": 85
        },
        "outputId": "14c75747-5077-48b7-ae86-b8815fef408e"
      },
      "source": [
        "x = int(input(\"請輸入起始的整數:\"))\n",
        "y = int(input(\"請輸入終止的整數:\"))\n",
        "odd_summation = 0\n",
        "i = x\n",
        "while i <= y:\n",
        "    if i % 2 == 1:\n",
        "       odd_summation = odd_summation + i\n",
        "    i += 1\n",
        "print(\"=====\")\n",
        "print(odd_summation)"
      ],
      "execution_count": 10,
      "outputs": [
        {
          "output_type": "stream",
          "text": [
            "請輸入起始的整數:5\n",
            "請輸入終止的整數:10\n",
            "=====\n",
            "21\n"
          ],
          "name": "stdout"
        }
      ]
    },
    {
      "cell_type": "code",
      "metadata": {
        "id": "14xiauVbINQn",
        "colab_type": "code",
        "colab": {
          "base_uri": "https://localhost:8080/",
          "height": 85
        },
        "outputId": "4075fffb-8169-440a-a921-d65817d219ea"
      },
      "source": [
        "x = int(input(\"請輸入起始的整數:\"))\n",
        "y = int(input(\"請輸入終止的整數:\"))\n",
        "odd_summation = 0 # 歸零\n",
        "i = x # start\n",
        "while i <= y: # stop\n",
        "    # task\n",
        "    if i % 2 == 1:\n",
        "        odd_summation = odd_summation + i # 數值累加\n",
        "    i += 1 # step\n",
        "print(\"======\")\n",
        "print(odd_summation)"
      ],
      "execution_count": 11,
      "outputs": [
        {
          "output_type": "stream",
          "text": [
            "請輸入起始的整數:5\n",
            "請輸入終止的整數:10\n",
            "======\n",
            "21\n"
          ],
          "name": "stdout"
        }
      ]
    },
    {
      "cell_type": "code",
      "metadata": {
        "id": "MtBMCGoDKbyO",
        "colab_type": "code",
        "colab": {
          "base_uri": "https://localhost:8080/",
          "height": 204
        },
        "outputId": "2738dff3-9f8e-4711-97fb-65e1d90461e7"
      },
      "source": [
        "x = int(input(\"請輸入起始的整數:\"))\n",
        "y = int(input(\"請輸入終止的整數:\"))\n",
        "odd_summation = 0\n",
        "odd_counter = 0\n",
        "i = x\n",
        "while i <= y:\n",
        "    if i % 2 == 1:\n",
        "        odd_counter += 1\n",
        "        odd_summation += i\n",
        "        print(\"現在的整數是:{},奇數計數為{}個,總合為{}\".format(i, odd_counter, odd_summation))\n",
        "    else:\n",
        "        print(\"現在的整數是:{},奇數計數為{}個,總合為{}\".format(i, odd_counter, odd_summation))\n",
        "    i += 1\n",
        "print(\"=====\")\n",
        "print(odd_counter)\n",
        "print(odd_summation)"
      ],
      "execution_count": 17,
      "outputs": [
        {
          "output_type": "stream",
          "text": [
            "請輸入起始的整數:5\n",
            "請輸入終止的整數:10\n",
            "現在的整數是:5,奇數計數為1個,總合為5\n",
            "現在的整數是:6,奇數計數為1個,總合為5\n",
            "現在的整數是:7,奇數計數為2個,總合為12\n",
            "現在的整數是:8,奇數計數為2個,總合為12\n",
            "現在的整數是:9,奇數計數為3個,總合為21\n",
            "現在的整數是:10,奇數計數為3個,總合為21\n",
            "=====\n",
            "3\n",
            "21\n"
          ],
          "name": "stdout"
        }
      ]
    },
    {
      "cell_type": "code",
      "metadata": {
        "id": "tfHbBCLIKcp0",
        "colab_type": "code",
        "colab": {
          "base_uri": "https://localhost:8080/",
          "height": 204
        },
        "outputId": "95341131-e3b7-42de-8748-f700fa3273f5"
      },
      "source": [
        "x = int(input(\"請輸入起始的整數:\"))\n",
        "y = int(input(\"請輸入終止的整數:\"))\n",
        "odd_summation = 0 # 歸零\n",
        "odd_counter = 0\n",
        "i = x # start\n",
        "while i <= y: # stop\n",
        "    # task\n",
        "    if i % 2 == 1:\n",
        "        odd_counter += 1 # 計數累計\n",
        "        odd_summation += i # 數值累加\n",
        "        print(\"現在的整數是:{}, 奇數計數為{}個, 總和為{}\".format(i, odd_counter, odd_summation))\n",
        "    else:\n",
        "        print(\"現在的整數是:{}, 奇數計數為{}個, 總和為{}\".format(i, odd_counter, odd_summation))\n",
        "    i += 1 # step\n",
        "print(\"======\")\n",
        "print(odd_counter)\n",
        "print(odd_summation)"
      ],
      "execution_count": 14,
      "outputs": [
        {
          "output_type": "stream",
          "text": [
            "請輸入起始的整數:5\n",
            "請輸入終止的整數:10\n",
            "現在的整數是:5, 奇數計數為1個, 總和為5\n",
            "現在的整數是:6, 奇數計數為1個, 總和為5\n",
            "現在的整數是:7, 奇數計數為2個, 總和為12\n",
            "現在的整數是:8, 奇數計數為2個, 總和為12\n",
            "現在的整數是:9, 奇數計數為3個, 總和為21\n",
            "現在的整數是:10, 奇數計數為3個, 總和為21\n",
            "======\n",
            "3\n",
            "21\n"
          ],
          "name": "stdout"
        }
      ]
    },
    {
      "cell_type": "code",
      "metadata": {
        "id": "VCk7G6w4NRB6",
        "colab_type": "code",
        "colab": {
          "base_uri": "https://localhost:8080/",
          "height": 544
        },
        "outputId": "877cf46f-9053-4f8d-ca4e-78542cdb86f8"
      },
      "source": [
        "x = int(input(\"請輸入一個正整數:\"))\n",
        "i = 1\n",
        "while i <= x:\n",
        "    print(i)\n",
        "    i += 1"
      ],
      "execution_count": 21,
      "outputs": [
        {
          "output_type": "stream",
          "text": [
            "請輸入一個正整數:30\n",
            "1\n",
            "2\n",
            "3\n",
            "4\n",
            "5\n",
            "6\n",
            "7\n",
            "8\n",
            "9\n",
            "10\n",
            "11\n",
            "12\n",
            "13\n",
            "14\n",
            "15\n",
            "16\n",
            "17\n",
            "18\n",
            "19\n",
            "20\n",
            "21\n",
            "22\n",
            "23\n",
            "24\n",
            "25\n",
            "26\n",
            "27\n",
            "28\n",
            "29\n",
            "30\n"
          ],
          "name": "stdout"
        }
      ]
    },
    {
      "cell_type": "code",
      "metadata": {
        "id": "iFcgOu82NZPh",
        "colab_type": "code",
        "colab": {
          "base_uri": "https://localhost:8080/",
          "height": 986
        },
        "outputId": "aadae986-5ef0-450e-d31b-e39da4cc5176"
      },
      "source": [
        "x = int(input(\"請輸入一個正整數:\"))\n",
        "i = 1 # start\n",
        "while i <= x: # stop\n",
        "    print(i)\n",
        "    i += 1 # step"
      ],
      "execution_count": 20,
      "outputs": [
        {
          "output_type": "stream",
          "text": [
            "請輸入一個正整數:56\n",
            "1\n",
            "2\n",
            "3\n",
            "4\n",
            "5\n",
            "6\n",
            "7\n",
            "8\n",
            "9\n",
            "10\n",
            "11\n",
            "12\n",
            "13\n",
            "14\n",
            "15\n",
            "16\n",
            "17\n",
            "18\n",
            "19\n",
            "20\n",
            "21\n",
            "22\n",
            "23\n",
            "24\n",
            "25\n",
            "26\n",
            "27\n",
            "28\n",
            "29\n",
            "30\n",
            "31\n",
            "32\n",
            "33\n",
            "34\n",
            "35\n",
            "36\n",
            "37\n",
            "38\n",
            "39\n",
            "40\n",
            "41\n",
            "42\n",
            "43\n",
            "44\n",
            "45\n",
            "46\n",
            "47\n",
            "48\n",
            "49\n",
            "50\n",
            "51\n",
            "52\n",
            "53\n",
            "54\n",
            "55\n",
            "56\n"
          ],
          "name": "stdout"
        }
      ]
    },
    {
      "cell_type": "code",
      "metadata": {
        "id": "uqJYGptAN8i6",
        "colab_type": "code",
        "colab": {
          "base_uri": "https://localhost:8080/",
          "height": 170
        },
        "outputId": "1b47ece8-c4e0-483a-c0cd-c8ba92a33a3a"
      },
      "source": [
        "x = int(input(\"請輸入一個正整數:\"))\n",
        "i = 1\n",
        "while i <= x:\n",
        "    if x % i == 0:\n",
        "        print(i)\n",
        "    i += 1"
      ],
      "execution_count": 22,
      "outputs": [
        {
          "output_type": "stream",
          "text": [
            "請輸入一個正整數:56\n",
            "1\n",
            "2\n",
            "4\n",
            "7\n",
            "8\n",
            "14\n",
            "28\n",
            "56\n"
          ],
          "name": "stdout"
        }
      ]
    },
    {
      "cell_type": "code",
      "metadata": {
        "id": "gCCra4xzOT_p",
        "colab_type": "code",
        "colab": {
          "base_uri": "https://localhost:8080/",
          "height": 170
        },
        "outputId": "b16f0b9b-46b5-400a-c945-2c4f8c8106de"
      },
      "source": [
        "x = int(input(\"請輸入一個正整數:\"))\n",
        "i = 1 # start\n",
        "while i <= x: # stop\n",
        "    if x % i == 0:\n",
        "        print(i)\n",
        "    i += 1 # step"
      ],
      "execution_count": 23,
      "outputs": [
        {
          "output_type": "stream",
          "text": [
            "請輸入一個正整數:56\n",
            "1\n",
            "2\n",
            "4\n",
            "7\n",
            "8\n",
            "14\n",
            "28\n",
            "56\n"
          ],
          "name": "stdout"
        }
      ]
    },
    {
      "cell_type": "code",
      "metadata": {
        "id": "z0rnQX2pO-cc",
        "colab_type": "code",
        "colab": {
          "base_uri": "https://localhost:8080/",
          "height": 357
        },
        "outputId": "07dd518e-3381-4012-825b-b9b2273ffc07"
      },
      "source": [
        "x = int(input(\"請輸入一個正整數:\"))\n",
        "i = 1\n",
        "divisor_counter = 0\n",
        "while i <= x:\n",
        "    if x % i == 0:\n",
        "        divisor_counter += 1\n",
        "        print(\"{}可以被{}整除\".format(x,i))\n",
        "        print(\"因數個數目前有{}個\".format(divisor_counter))\n",
        "        print(\"=====\")\n",
        "    i += 1\n",
        "print(\"### Answer ###\")\n",
        "print(\"總共執行了{}次迴圈\".format(i - 1))\n",
        "print(\"{}共有{}個因數\".format(x, divisor_counter))\n",
        "if divisor_counter == 2:\n",
        "    print(\"{}是質數\".format(x))\n",
        "else:\n",
        "    print(\"{}不是質數\".format(x))"
      ],
      "execution_count": 27,
      "outputs": [
        {
          "output_type": "stream",
          "text": [
            "請輸入一個正整數:16\n",
            "16可以被1整除\n",
            "因數個數目前有1個\n",
            "=====\n",
            "16可以被2整除\n",
            "因數個數目前有2個\n",
            "=====\n",
            "16可以被4整除\n",
            "因數個數目前有3個\n",
            "=====\n",
            "16可以被8整除\n",
            "因數個數目前有4個\n",
            "=====\n",
            "16可以被16整除\n",
            "因數個數目前有5個\n",
            "=====\n",
            "### Answer ###\n",
            "總共執行了16次迴圈\n",
            "16共有5個因數\n",
            "16不是質數\n"
          ],
          "name": "stdout"
        }
      ]
    },
    {
      "cell_type": "code",
      "metadata": {
        "id": "2KoyFMVAO_Ap",
        "colab_type": "code",
        "colab": {
          "base_uri": "https://localhost:8080/",
          "height": 357
        },
        "outputId": "ad9cd32d-db24-4f4b-ad2a-0f83f3dbfe91"
      },
      "source": [
        "x = int(input(\"請輸入一個正整數:\"))\n",
        "i = 1 # start\n",
        "divisor_counter = 0 # 歸零\n",
        "while i <= x: # stop\n",
        "    if x % i == 0:\n",
        "        divisor_counter += 1\n",
        "        print(\"{}可以被{}整除\".format(x, i))\n",
        "        print(\"因數個數目前有{}個\".format(divisor_counter))\n",
        "        print(\"======\")\n",
        "    i += 1 # step\n",
        "print(\"### Answer ###\")\n",
        "print(\"總共執行了{}次迴圈\".format(i - 1))\n",
        "print(\"{}共有{}個因數\".format(x, divisor_counter))\n",
        "if divisor_counter == 2:\n",
        "    print(\"{}是質數\".format(x))\n",
        "else:\n",
        "    print(\"{}不是質數\".format(x))"
      ],
      "execution_count": 28,
      "outputs": [
        {
          "output_type": "stream",
          "text": [
            "請輸入一個正整數:16\n",
            "16可以被1整除\n",
            "因數個數目前有1個\n",
            "======\n",
            "16可以被2整除\n",
            "因數個數目前有2個\n",
            "======\n",
            "16可以被4整除\n",
            "因數個數目前有3個\n",
            "======\n",
            "16可以被8整除\n",
            "因數個數目前有4個\n",
            "======\n",
            "16可以被16整除\n",
            "因數個數目前有5個\n",
            "======\n",
            "### Answer ###\n",
            "總共執行了16次迴圈\n",
            "16共有5個因數\n",
            "16不是質數\n"
          ],
          "name": "stdout"
        }
      ]
    },
    {
      "cell_type": "code",
      "metadata": {
        "id": "2ZsJdBJNWPAF",
        "colab_type": "code",
        "colab": {
          "base_uri": "https://localhost:8080/",
          "height": 187
        },
        "outputId": "75dd4596-9f08-4524-a098-76986840e33a"
      },
      "source": [
        "x = int(input(\"請輸入一個正整數:\"))\n",
        "i = 1 \n",
        "divisor_counter = 0 \n",
        "while i <= x:\n",
        "    if x % i == 0:\n",
        "        divisor_counter += 1\n",
        "        print(\"{}可以被{}整除\".format(x, i))\n",
        "        print(\"因數個數目前有{}個\".format(divisor_counter))\n",
        "        print(\"======\")\n",
        "    i += 1\n",
        "    if divisor_counter > 2:\n",
        "        break\n",
        "print(\"### Answer ###\")\n",
        "print(\"總共執行了{}次迴圈\".format(i - 1))\n",
        "if divisor_counter == 2:\n",
        "    print(\"{}是質數\".format(x))\n",
        "else:\n",
        "    print(\"{}不是質數\".format(x))"
      ],
      "execution_count": 29,
      "outputs": [
        {
          "output_type": "stream",
          "text": [
            "請輸入一個正整數:11\n",
            "11可以被1整除\n",
            "因數個數目前有1個\n",
            "======\n",
            "11可以被11整除\n",
            "因數個數目前有2個\n",
            "======\n",
            "### Answer ###\n",
            "總共執行了11次迴圈\n",
            "11是質數\n"
          ],
          "name": "stdout"
        }
      ]
    },
    {
      "cell_type": "code",
      "metadata": {
        "id": "vKjsrq3IYekr",
        "colab_type": "code",
        "colab": {
          "base_uri": "https://localhost:8080/",
          "height": 187
        },
        "outputId": "41049de5-14d8-4d9d-b9e3-f5da42e90372"
      },
      "source": [
        "x = int(input(\"請輸入一個正整數:\"))\n",
        "i = 1 # start\n",
        "divisor_counter = 0 # 歸零\n",
        "while i <= x: # stop\n",
        "    if x % i == 0:\n",
        "        divisor_counter += 1\n",
        "        print(\"{}可以被{}整除\".format(x, i))\n",
        "        print(\"因數個數目前有{}個\".format(divisor_counter))\n",
        "        print(\"======\")\n",
        "    i += 1 # step\n",
        "    if divisor_counter > 2:\n",
        "        break\n",
        "print(\"### Answer ###\")\n",
        "print(\"總共執行了{}次迴圈\".format(i - 1))\n",
        "if divisor_counter == 2:\n",
        "    print(\"{}是質數\".format(x))\n",
        "else:\n",
        "    print(\"{}不是質數\".format(x))"
      ],
      "execution_count": 30,
      "outputs": [
        {
          "output_type": "stream",
          "text": [
            "請輸入一個正整數:11\n",
            "11可以被1整除\n",
            "因數個數目前有1個\n",
            "======\n",
            "11可以被11整除\n",
            "因數個數目前有2個\n",
            "======\n",
            "### Answer ###\n",
            "總共執行了11次迴圈\n",
            "11是質數\n"
          ],
          "name": "stdout"
        }
      ]
    },
    {
      "cell_type": "code",
      "metadata": {
        "id": "if4FvQHwYnn4",
        "colab_type": "code",
        "colab": {
          "base_uri": "https://localhost:8080/",
          "height": 816
        },
        "outputId": "57c7c675-4ee6-409c-a604-6b8273141a80"
      },
      "source": [
        "i = 1\n",
        "while i <= 100:\n",
        "    if i % 15 == 0:\n",
        "        print(\"Fizz Buzz\")\n",
        "    elif i % 3 == 0:\n",
        "        print(\"Fizz\")\n",
        "    elif i % 5 == 0:\n",
        "        print(\"Buz\")\n",
        "    i += 1  "
      ],
      "execution_count": 31,
      "outputs": [
        {
          "output_type": "stream",
          "text": [
            "Fizz\n",
            "Buz\n",
            "Fizz\n",
            "Fizz\n",
            "Buz\n",
            "Fizz\n",
            "Fizz Buzz\n",
            "Fizz\n",
            "Buz\n",
            "Fizz\n",
            "Fizz\n",
            "Buz\n",
            "Fizz\n",
            "Fizz Buzz\n",
            "Fizz\n",
            "Buz\n",
            "Fizz\n",
            "Fizz\n",
            "Buz\n",
            "Fizz\n",
            "Fizz Buzz\n",
            "Fizz\n",
            "Buz\n",
            "Fizz\n",
            "Fizz\n",
            "Buz\n",
            "Fizz\n",
            "Fizz Buzz\n",
            "Fizz\n",
            "Buz\n",
            "Fizz\n",
            "Fizz\n",
            "Buz\n",
            "Fizz\n",
            "Fizz Buzz\n",
            "Fizz\n",
            "Buz\n",
            "Fizz\n",
            "Fizz\n",
            "Buz\n",
            "Fizz\n",
            "Fizz Buzz\n",
            "Fizz\n",
            "Buz\n",
            "Fizz\n",
            "Fizz\n",
            "Buz\n"
          ],
          "name": "stdout"
        }
      ]
    },
    {
      "cell_type": "code",
      "metadata": {
        "id": "QMkYNaH4ZJH7",
        "colab_type": "code",
        "colab": {
          "base_uri": "https://localhost:8080/",
          "height": 816
        },
        "outputId": "363bb83b-edaf-44d7-aafb-ad625624b34c"
      },
      "source": [
        "i = 1 # start\n",
        "while i <= 100: # stop\n",
        "    if i % 15 == 0:\n",
        "        print(\"Fizz Buzz\")\n",
        "    elif i % 3 == 0:\n",
        "        print(\"Fizz\")\n",
        "    elif i % 5 == 0:\n",
        "        print(\"Buz\")\n",
        "    i += 1 # step"
      ],
      "execution_count": 32,
      "outputs": [
        {
          "output_type": "stream",
          "text": [
            "Fizz\n",
            "Buz\n",
            "Fizz\n",
            "Fizz\n",
            "Buz\n",
            "Fizz\n",
            "Fizz Buzz\n",
            "Fizz\n",
            "Buz\n",
            "Fizz\n",
            "Fizz\n",
            "Buz\n",
            "Fizz\n",
            "Fizz Buzz\n",
            "Fizz\n",
            "Buz\n",
            "Fizz\n",
            "Fizz\n",
            "Buz\n",
            "Fizz\n",
            "Fizz Buzz\n",
            "Fizz\n",
            "Buz\n",
            "Fizz\n",
            "Fizz\n",
            "Buz\n",
            "Fizz\n",
            "Fizz Buzz\n",
            "Fizz\n",
            "Buz\n",
            "Fizz\n",
            "Fizz\n",
            "Buz\n",
            "Fizz\n",
            "Fizz Buzz\n",
            "Fizz\n",
            "Buz\n",
            "Fizz\n",
            "Fizz\n",
            "Buz\n",
            "Fizz\n",
            "Fizz Buzz\n",
            "Fizz\n",
            "Buz\n",
            "Fizz\n",
            "Fizz\n",
            "Buz\n"
          ],
          "name": "stdout"
        }
      ]
    }
  ]
}